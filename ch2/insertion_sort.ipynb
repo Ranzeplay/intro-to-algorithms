{
 "cells": [
  {
   "metadata": {},
   "cell_type": "markdown",
   "source": "# Insertion sort",
   "id": "e17509f0c6596564"
  },
  {
   "metadata": {},
   "cell_type": "code",
   "outputs": [],
   "execution_count": null,
   "source": [
    "def sort(arr):\n",
    "    n = len(arr)\n",
    "    for i in range(1, n):\n",
    "        key = arr[i]\n",
    "        j = i - 1\n",
    "        while j >= 0 and arr[j] > key:\n",
    "            arr[j + 1] = arr[j]\n",
    "            j -= 1\n",
    "        arr[j + 1] = key"
   ],
   "id": "8026a9c57beaa033"
  },
  {
   "metadata": {},
   "cell_type": "markdown",
   "source": "## Visualize",
   "id": "79653b2203446e93"
  },
  {
   "metadata": {},
   "cell_type": "code",
   "outputs": [],
   "execution_count": null,
   "source": [
    "import numpy as np\n",
    "import matplotlib.pyplot as plt\n",
    "\n",
    "size = 10\n",
    "\n",
    "array = np.random.randint(-100, 100, size)\n",
    "x = np.arange(size)\n",
    "plt.plot(x, array)\n"
   ],
   "id": "d3fece61c9b96ad3"
  },
  {
   "metadata": {},
   "cell_type": "code",
   "outputs": [],
   "execution_count": null,
   "source": [
    "sort(array)\n",
    "plt.plot(x, array)"
   ],
   "id": "d966d2997f0c48da"
  }
 ],
 "metadata": {
  "kernelspec": {
   "display_name": "Python 3",
   "language": "python",
   "name": "python3"
  },
  "language_info": {
   "codemirror_mode": {
    "name": "ipython",
    "version": 2
   },
   "file_extension": ".py",
   "mimetype": "text/x-python",
   "name": "python",
   "nbconvert_exporter": "python",
   "pygments_lexer": "ipython2",
   "version": "2.7.6"
  }
 },
 "nbformat": 4,
 "nbformat_minor": 5
}
