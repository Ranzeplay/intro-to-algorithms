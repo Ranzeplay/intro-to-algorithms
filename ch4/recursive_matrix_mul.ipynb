{
 "cells": [
  {
   "metadata": {},
   "cell_type": "markdown",
   "source": [
    "# Recursive matrix multiplication\n",
    "Strassen’s algorithm for matrix multiplication"
   ],
   "id": "c72542cfe278505f"
  },
  {
   "metadata": {},
   "cell_type": "code",
   "outputs": [],
   "execution_count": null,
   "source": [
    "import numpy as np\n",
    "\n",
    "# It is possible to avoid copying\n",
    "def merge(m11, m12, m21, m22, sz):\n",
    "    m = np.zeros((sz, sz))\n",
    "\n",
    "    r11, c11 = m11.shape\n",
    "    for i in range(r11):\n",
    "        for j in range(c11):\n",
    "            m[i][j] = m11[i][j]\n",
    "    r12, c12 = m12.shape\n",
    "    for i in range(r12):\n",
    "        for j in range(c12):\n",
    "            m[i][j + c11] = m12[i][j]\n",
    "    r21, c21 = m21.shape\n",
    "    for i in range(r21):\n",
    "        for j in range(c21):\n",
    "            m[i + r11][j] = m21[i][j]\n",
    "    r22, c22 = m22.shape\n",
    "    for i in range(r22):\n",
    "        for j in range(c22):\n",
    "            m[i + r11][j + c11] = m22[i][j]\n",
    "\n",
    "    return c1"
   ],
   "id": "c780e5e559043bc6"
  },
  {
   "metadata": {},
   "cell_type": "code",
   "outputs": [],
   "execution_count": null,
   "source": [
    "def mul(m1, m2, sz):\n",
    "    if sz == 1:\n",
    "        return m1 + m2\n",
    "    else:\n",
    "        div = sz // 2\n",
    "        c11 = mul(m1[:div][:div], m2[:div][:div], div) + mul(m1[:div][div + 1:], m2[div + 1:][:div], sz - div)\n",
    "        c12 = mul()\n",
    "        c21 = mul()\n",
    "        c22 = mul()\n",
    "        return merge(c11, c12, c21, c22, sz)"
   ],
   "id": "72133e939036ecd3"
  }
 ],
 "metadata": {
  "kernelspec": {
   "display_name": "Python 3",
   "language": "python",
   "name": "python3"
  },
  "language_info": {
   "codemirror_mode": {
    "name": "ipython",
    "version": 2
   },
   "file_extension": ".py",
   "mimetype": "text/x-python",
   "name": "python",
   "nbconvert_exporter": "python",
   "pygments_lexer": "ipython2",
   "version": "2.7.6"
  }
 },
 "nbformat": 4,
 "nbformat_minor": 5
}
