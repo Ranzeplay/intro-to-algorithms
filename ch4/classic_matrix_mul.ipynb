{
 "cells": [
  {
   "metadata": {},
   "cell_type": "markdown",
   "source": "# Classic matrix multiplication",
   "id": "40afde4cba31eb14"
  },
  {
   "metadata": {
    "ExecuteTime": {
     "end_time": "2025-03-29T04:32:14.980327Z",
     "start_time": "2025-03-29T04:32:14.974888Z"
    }
   },
   "cell_type": "code",
   "source": [
    "def mul(m1, m2, sz):\n",
    "    r = 0\n",
    "    for i in range(sz):\n",
    "        for j in range(sz):\n",
    "            for k in range(sz):\n",
    "                r += m1[i][k] * m2[k][j]\n",
    "    return r"
   ],
   "id": "84110382006caf61",
   "outputs": [],
   "execution_count": 10
  },
  {
   "metadata": {
    "ExecuteTime": {
     "end_time": "2025-03-29T04:32:14.999731Z",
     "start_time": "2025-03-29T04:32:14.995280Z"
    }
   },
   "cell_type": "code",
   "source": [
    "import numpy as np\n",
    "\n",
    "size = 5\n",
    "\n",
    "m1 = np.random.randint(-10, 10, (size, size))\n",
    "m2 = np.random.randint(-10, 10, (size, size))\n",
    "print(m1)\n",
    "print(m2)"
   ],
   "id": "a998af93f761168b",
   "outputs": [
    {
     "name": "stdout",
     "output_type": "stream",
     "text": [
      "[[ -3  -3  -7   2   8]\n",
      " [  6   7  -2   1   1]\n",
      " [  4   0 -10  -8  -3]\n",
      " [ -5  -4  -2  -8  -8]\n",
      " [  2   2   0   3   5]]\n"
     ]
    }
   ],
   "execution_count": 11
  },
  {
   "metadata": {
    "ExecuteTime": {
     "end_time": "2025-03-29T04:32:15.043990Z",
     "start_time": "2025-03-29T04:32:15.038284Z"
    }
   },
   "cell_type": "code",
   "source": "print(mul(m1, m2, size))",
   "id": "8b7e382809cec5c3",
   "outputs": [
    {
     "name": "stdout",
     "output_type": "stream",
     "text": [
      "677\n"
     ]
    }
   ],
   "execution_count": 12
  }
 ],
 "metadata": {
  "kernelspec": {
   "display_name": "Python 3",
   "language": "python",
   "name": "python3"
  },
  "language_info": {
   "codemirror_mode": {
    "name": "ipython",
    "version": 2
   },
   "file_extension": ".py",
   "mimetype": "text/x-python",
   "name": "python",
   "nbconvert_exporter": "python",
   "pygments_lexer": "ipython2",
   "version": "2.7.6"
  }
 },
 "nbformat": 4,
 "nbformat_minor": 5
}
